{
 "cells": [
  {
   "cell_type": "code",
   "execution_count": 1,
   "source": [
    "import pandas as pd"
   ],
   "outputs": [],
   "metadata": {}
  },
  {
   "cell_type": "code",
   "execution_count": 2,
   "source": [
    "def data_import(file_path):\r\n",
    "    dataframe = pd.read_csv(file_path)\r\n",
    "    return dataframe\r\n",
    "\r\n",
    "dataframe_1 = data_import('files_for_lab/csv_files/file1.csv')\r\n",
    "dataframe_2 = data_import('files_for_lab/csv_files/file2.csv')\r\n",
    "dataframe_3 = data_import('files_for_lab/csv_files/file3.csv')\r\n",
    "\r\n",
    "print('\\nData imported correctly!\\n')"
   ],
   "outputs": [
    {
     "output_type": "stream",
     "name": "stdout",
     "text": [
      "\n",
      "Data imported correctly!\n",
      "\n"
     ]
    }
   ],
   "metadata": {}
  },
  {
   "cell_type": "code",
   "execution_count": 3,
   "source": [
    "# Importing the data, we had a problem: only from index 0 to 1070 contains data. \r\n",
    "# Lets slice only the rows with valid data.\r\n",
    "\r\n",
    "dataframe_1 = dataframe_1[0:1071]"
   ],
   "outputs": [],
   "metadata": {}
  },
  {
   "cell_type": "code",
   "execution_count": 4,
   "source": [
    "def dataframe_shape(dataframe):\r\n",
    "    df_shape = dataframe.shape\r\n",
    "    return df_shape\r\n",
    "\r\n",
    "print('\\nSHAPE OF THE DATAFRAMES')\r\n",
    "print('-----------------------\\n')\r\n",
    "\r\n",
    "print(f'- Shape dataframe 1: {dataframe_shape(dataframe_1)}')\r\n",
    "print(f'- Shape dataframe 2: {dataframe_shape(dataframe_2)}')\r\n",
    "print(f'- Shape dataframe 3: {dataframe_shape(dataframe_3)}')"
   ],
   "outputs": [
    {
     "output_type": "stream",
     "name": "stdout",
     "text": [
      "\n",
      "SHAPE OF THE DATAFRAMES\n",
      "-----------------------\n",
      "\n",
      "- Shape dataframe 1: (1071, 11)\n",
      "- Shape dataframe 2: (996, 11)\n",
      "- Shape dataframe 3: (7070, 11)\n"
     ]
    }
   ],
   "metadata": {}
  },
  {
   "cell_type": "code",
   "execution_count": 5,
   "source": [
    "def columns_standardization(dataframe):\r\n",
    "\r\n",
    "    standardized_columns = list()\r\n",
    "\r\n",
    "    for column in dataframe.columns:\r\n",
    "        standardized_columns.append(column.lower())\r\n",
    "\r\n",
    "    dataframe.columns = standardized_columns\r\n",
    "\r\n",
    "    return dataframe\r\n",
    "\r\n",
    "dataframe_1 = columns_standardization(dataframe_1)\r\n",
    "dataframe_2 = columns_standardization(dataframe_2)\r\n",
    "dataframe_3 = columns_standardization(dataframe_3)\r\n",
    "\r\n",
    "print('\\nColumns were correctly standardized!\\n')"
   ],
   "outputs": [
    {
     "output_type": "stream",
     "name": "stdout",
     "text": [
      "\n",
      "Columns were correctly standardized!\n",
      "\n"
     ]
    }
   ],
   "metadata": {}
  },
  {
   "cell_type": "code",
   "execution_count": 6,
   "source": [
    "# Defining the new order of the columns.\r\n",
    "\r\n",
    "columns_order = ['customer', 'state', 'customer lifetime value', 'education', 'gender',\r\n",
    "                 'income', 'monthly premium auto', 'number of open complaints',\r\n",
    "                 'policy type', 'total claim amount', 'vehicle class']\r\n",
    "\r\n",
    "# Adapting the name of the columns to dataframe_1 and defining the new order.\r\n",
    "\r\n",
    "dataframe_1 = dataframe_1.rename(columns = {'st': 'state'})\r\n",
    "dataframe_1 = dataframe_1[columns_order]\r\n",
    "\r\n",
    "# Adapting the name of the columns to dataframe_2 and defining the new order.\r\n",
    "\r\n",
    "dataframe_2 = dataframe_2.rename(columns = {'st':'state'})\r\n",
    "dataframe_2 = dataframe_2[columns_order]"
   ],
   "outputs": [],
   "metadata": {}
  },
  {
   "cell_type": "code",
   "execution_count": 7,
   "source": [
    "def dataframes_fusion(dataframes):\r\n",
    "    final_dataframe = pd.concat([dataframes[0], dataframes[1], dataframes[2]])\r\n",
    "    return final_dataframe\r\n",
    "\r\n",
    "merged_dataframes = dataframes_fusion([dataframe_1, dataframe_2, dataframe_3])"
   ],
   "outputs": [],
   "metadata": {}
  },
  {
   "cell_type": "code",
   "execution_count": 9,
   "source": [
    "# Fred and Erin solution.\r\n",
    "\r\n",
    "new_customer_ltv_values = list()\r\n",
    "\r\n",
    "for value in merged_dataframes['customer lifetime value'].values:\r\n",
    "    if '%' in str(value):\r\n",
    "        value = value[:-1]\r\n",
    "        new_customer_ltv_values.append(value)\r\n",
    "    else:\r\n",
    "        new_customer_ltv_values.append(value)\r\n",
    "\r\n",
    "merged_dataframes['customer lifetime value'] = new_customer_ltv_values"
   ],
   "outputs": [],
   "metadata": {}
  },
  {
   "cell_type": "code",
   "execution_count": 10,
   "source": [
    "# Forcing not quality columns that are actually numerical to be numerical.\r\n",
    "\r\n",
    "merged_dataframes['customer lifetime value'] = pd.to_numeric(merged_dataframes['customer lifetime value'], errors = 'coerce')\r\n",
    "merged_dataframes['number of open complaints'] = pd.to_numeric(merged_dataframes['number of open complaints'], errors = 'coerce')"
   ],
   "outputs": [],
   "metadata": {}
  },
  {
   "cell_type": "code",
   "execution_count": 11,
   "source": [
    "def is_numeric(dataframe):\r\n",
    "\r\n",
    "    numerical_types = ['int16', 'int32', 'int64', 'float16', 'float32', 'float64']\r\n",
    "    numerical_columns = dataframe.select_dtypes(include = numerical_types)\r\n",
    "\r\n",
    "    return numerical_columns.columns.to_list()\r\n",
    "\r\n",
    "numeric_columns = is_numeric(merged_dataframes)"
   ],
   "outputs": [],
   "metadata": {}
  },
  {
   "cell_type": "code",
   "execution_count": 12,
   "source": [
    "def is_categorical(dataframe, numeric_columns):\r\n",
    "\r\n",
    "    categorical_columns = list()\r\n",
    "\r\n",
    "    for column in dataframe.columns:\r\n",
    "        if column not in numeric_columns:\r\n",
    "            categorical_columns.append(column)\r\n",
    "\r\n",
    "    return categorical_columns\r\n",
    "\r\n",
    "categoric_columns = is_categorical(merged_dataframes, numeric_columns)"
   ],
   "outputs": [],
   "metadata": {}
  },
  {
   "cell_type": "code",
   "execution_count": 13,
   "source": [
    "def drop_columns(dataframe, columns):\r\n",
    "    dataframe = dataframe.drop(columns = columns)\r\n",
    "    return dataframe\r\n",
    "\r\n",
    "merged_dataframes = drop_columns(merged_dataframes, ['number of open complaints', 'education'])"
   ],
   "outputs": [],
   "metadata": {}
  },
  {
   "cell_type": "code",
   "execution_count": 14,
   "source": [
    "def drop_duplicates(dataframe):\r\n",
    "    dataframe = dataframe.drop_duplicates()\r\n",
    "    return dataframe\r\n",
    "\r\n",
    "merged_dataframes = drop_duplicates(merged_dataframes)"
   ],
   "outputs": [],
   "metadata": {}
  },
  {
   "cell_type": "code",
   "execution_count": 15,
   "source": [
    "merged_dataframes[merged_dataframes.income <= 0]"
   ],
   "outputs": [
    {
     "output_type": "execute_result",
     "data": {
      "text/plain": [
       "     customer       state  customer lifetime value gender  income  \\\n",
       "0     RB50392  Washington                      NaN    NaN     0.0   \n",
       "1     QZ44356     Arizona            697953.590000      F     0.0   \n",
       "3     WW63253  California            764586.180000      M     0.0   \n",
       "7     CF85061     Arizona            721610.030000      M     0.0   \n",
       "10    SX51350  California            473899.200000      M     0.0   \n",
       "...       ...         ...                      ...    ...     ...   \n",
       "7059  WZ45103  California              5678.050167      F     0.0   \n",
       "7061  RX91025  California             19872.262000      M     0.0   \n",
       "7062  AC13887  California              4628.995325      M     0.0   \n",
       "7067  TD14365  California              8163.890428      M     0.0   \n",
       "7069  Y167826  California              2611.836866      M     0.0   \n",
       "\n",
       "      monthly premium auto     policy type  total claim amount  vehicle class  \n",
       "0                   1000.0   Personal Auto            2.704934  Four-Door Car  \n",
       "1                     94.0   Personal Auto         1131.464935  Four-Door Car  \n",
       "3                    106.0  Corporate Auto          529.881344            SUV  \n",
       "7                    101.0  Corporate Auto          363.029680  Four-Door Car  \n",
       "10                    67.0   Personal Auto          482.400000  Four-Door Car  \n",
       "...                    ...             ...                 ...            ...  \n",
       "7059                  76.0   Personal Auto          364.800000  Four-Door Car  \n",
       "7061                 185.0   Personal Auto         1950.725547            SUV  \n",
       "7062                  67.0  Corporate Auto          482.400000   Two-Door Car  \n",
       "7067                  85.0  Corporate Auto          790.784983  Four-Door Car  \n",
       "7069                  77.0  Corporate Auto          369.600000   Two-Door Car  \n",
       "\n",
       "[2294 rows x 9 columns]"
      ],
      "text/html": [
       "<div>\n",
       "<style scoped>\n",
       "    .dataframe tbody tr th:only-of-type {\n",
       "        vertical-align: middle;\n",
       "    }\n",
       "\n",
       "    .dataframe tbody tr th {\n",
       "        vertical-align: top;\n",
       "    }\n",
       "\n",
       "    .dataframe thead th {\n",
       "        text-align: right;\n",
       "    }\n",
       "</style>\n",
       "<table border=\"1\" class=\"dataframe\">\n",
       "  <thead>\n",
       "    <tr style=\"text-align: right;\">\n",
       "      <th></th>\n",
       "      <th>customer</th>\n",
       "      <th>state</th>\n",
       "      <th>customer lifetime value</th>\n",
       "      <th>gender</th>\n",
       "      <th>income</th>\n",
       "      <th>monthly premium auto</th>\n",
       "      <th>policy type</th>\n",
       "      <th>total claim amount</th>\n",
       "      <th>vehicle class</th>\n",
       "    </tr>\n",
       "  </thead>\n",
       "  <tbody>\n",
       "    <tr>\n",
       "      <th>0</th>\n",
       "      <td>RB50392</td>\n",
       "      <td>Washington</td>\n",
       "      <td>NaN</td>\n",
       "      <td>NaN</td>\n",
       "      <td>0.0</td>\n",
       "      <td>1000.0</td>\n",
       "      <td>Personal Auto</td>\n",
       "      <td>2.704934</td>\n",
       "      <td>Four-Door Car</td>\n",
       "    </tr>\n",
       "    <tr>\n",
       "      <th>1</th>\n",
       "      <td>QZ44356</td>\n",
       "      <td>Arizona</td>\n",
       "      <td>697953.590000</td>\n",
       "      <td>F</td>\n",
       "      <td>0.0</td>\n",
       "      <td>94.0</td>\n",
       "      <td>Personal Auto</td>\n",
       "      <td>1131.464935</td>\n",
       "      <td>Four-Door Car</td>\n",
       "    </tr>\n",
       "    <tr>\n",
       "      <th>3</th>\n",
       "      <td>WW63253</td>\n",
       "      <td>California</td>\n",
       "      <td>764586.180000</td>\n",
       "      <td>M</td>\n",
       "      <td>0.0</td>\n",
       "      <td>106.0</td>\n",
       "      <td>Corporate Auto</td>\n",
       "      <td>529.881344</td>\n",
       "      <td>SUV</td>\n",
       "    </tr>\n",
       "    <tr>\n",
       "      <th>7</th>\n",
       "      <td>CF85061</td>\n",
       "      <td>Arizona</td>\n",
       "      <td>721610.030000</td>\n",
       "      <td>M</td>\n",
       "      <td>0.0</td>\n",
       "      <td>101.0</td>\n",
       "      <td>Corporate Auto</td>\n",
       "      <td>363.029680</td>\n",
       "      <td>Four-Door Car</td>\n",
       "    </tr>\n",
       "    <tr>\n",
       "      <th>10</th>\n",
       "      <td>SX51350</td>\n",
       "      <td>California</td>\n",
       "      <td>473899.200000</td>\n",
       "      <td>M</td>\n",
       "      <td>0.0</td>\n",
       "      <td>67.0</td>\n",
       "      <td>Personal Auto</td>\n",
       "      <td>482.400000</td>\n",
       "      <td>Four-Door Car</td>\n",
       "    </tr>\n",
       "    <tr>\n",
       "      <th>...</th>\n",
       "      <td>...</td>\n",
       "      <td>...</td>\n",
       "      <td>...</td>\n",
       "      <td>...</td>\n",
       "      <td>...</td>\n",
       "      <td>...</td>\n",
       "      <td>...</td>\n",
       "      <td>...</td>\n",
       "      <td>...</td>\n",
       "    </tr>\n",
       "    <tr>\n",
       "      <th>7059</th>\n",
       "      <td>WZ45103</td>\n",
       "      <td>California</td>\n",
       "      <td>5678.050167</td>\n",
       "      <td>F</td>\n",
       "      <td>0.0</td>\n",
       "      <td>76.0</td>\n",
       "      <td>Personal Auto</td>\n",
       "      <td>364.800000</td>\n",
       "      <td>Four-Door Car</td>\n",
       "    </tr>\n",
       "    <tr>\n",
       "      <th>7061</th>\n",
       "      <td>RX91025</td>\n",
       "      <td>California</td>\n",
       "      <td>19872.262000</td>\n",
       "      <td>M</td>\n",
       "      <td>0.0</td>\n",
       "      <td>185.0</td>\n",
       "      <td>Personal Auto</td>\n",
       "      <td>1950.725547</td>\n",
       "      <td>SUV</td>\n",
       "    </tr>\n",
       "    <tr>\n",
       "      <th>7062</th>\n",
       "      <td>AC13887</td>\n",
       "      <td>California</td>\n",
       "      <td>4628.995325</td>\n",
       "      <td>M</td>\n",
       "      <td>0.0</td>\n",
       "      <td>67.0</td>\n",
       "      <td>Corporate Auto</td>\n",
       "      <td>482.400000</td>\n",
       "      <td>Two-Door Car</td>\n",
       "    </tr>\n",
       "    <tr>\n",
       "      <th>7067</th>\n",
       "      <td>TD14365</td>\n",
       "      <td>California</td>\n",
       "      <td>8163.890428</td>\n",
       "      <td>M</td>\n",
       "      <td>0.0</td>\n",
       "      <td>85.0</td>\n",
       "      <td>Corporate Auto</td>\n",
       "      <td>790.784983</td>\n",
       "      <td>Four-Door Car</td>\n",
       "    </tr>\n",
       "    <tr>\n",
       "      <th>7069</th>\n",
       "      <td>Y167826</td>\n",
       "      <td>California</td>\n",
       "      <td>2611.836866</td>\n",
       "      <td>M</td>\n",
       "      <td>0.0</td>\n",
       "      <td>77.0</td>\n",
       "      <td>Corporate Auto</td>\n",
       "      <td>369.600000</td>\n",
       "      <td>Two-Door Car</td>\n",
       "    </tr>\n",
       "  </tbody>\n",
       "</table>\n",
       "<p>2294 rows × 9 columns</p>\n",
       "</div>"
      ]
     },
     "metadata": {},
     "execution_count": 15
    }
   ],
   "metadata": {}
  }
 ],
 "metadata": {
  "orig_nbformat": 4,
  "language_info": {
   "name": "python",
   "version": "3.7.6",
   "mimetype": "text/x-python",
   "codemirror_mode": {
    "name": "ipython",
    "version": 3
   },
   "pygments_lexer": "ipython3",
   "nbconvert_exporter": "python",
   "file_extension": ".py"
  },
  "kernelspec": {
   "name": "python3",
   "display_name": "Python 3.7.6 64-bit ('environment': venv)"
  },
  "interpreter": {
   "hash": "12d836465fb42c396c81eb16c2a1731a87293f82a1a0f8784fd7250e75d4ec2a"
  }
 },
 "nbformat": 4,
 "nbformat_minor": 2
}