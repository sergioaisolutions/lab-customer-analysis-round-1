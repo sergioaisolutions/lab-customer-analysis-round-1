{
 "cells": [],
 "metadata": {
  "orig_nbformat": 4,
  "language_info": {
   "name": "python",
   "version": "3.7.6",
   "mimetype": "text/x-python",
   "codemirror_mode": {
    "name": "ipython",
    "version": 3
   },
   "pygments_lexer": "ipython3",
   "nbconvert_exporter": "python",
   "file_extension": ".py"
  },
  "kernelspec": {
   "name": "python3",
   "display_name": "Python 3.7.6 64-bit ('environment': venv)"
  },
  "interpreter": {
   "hash": "12d836465fb42c396c81eb16c2a1731a87293f82a1a0f8784fd7250e75d4ec2a"
  }
 },
 "nbformat": 4,
 "nbformat_minor": 2
}